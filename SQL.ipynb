{
 "cells": [
  {
   "cell_type": "markdown",
   "metadata": {},
   "source": [
    "## Задание 1"
   ]
  },
  {
   "cell_type": "markdown",
   "metadata": {},
   "source": [
    "#### В этом задании необходимо продемонстрировать занния SQL, решив задания любым доступным способом"
   ]
  },
  {
   "cell_type": "markdown",
   "metadata": {},
   "source": [
    "Таблица persons - таблица с людьми, относящимися к миру кино:\n",
    "- id — уникальный идентификатор человека;\n",
    "- name — имя;\n",
    "- year_of_birth — год рождения;\n",
    "- year_of_death — год смерти;\n",
    "- professions — список профессий.\n",
    "\n",
    "Таблица titles - таблица с информацией о произведениях (фильмах, сериалах, шоу):\n",
    "- id — уникальный идентификатор;\n",
    "- type — тип произведения: фильм, сериал, короткометражка;\n",
    "- popular_title — популярное название;\n",
    "- original_title — оригинальное название;\n",
    "- year_of_start — год выпуска/старта сериала;\n",
    "- year_of_end — год окончания сериала;\n",
    "- is_adult — есть ли у фильма ограничение 18+;\n",
    "- run_time — длительность в минутах;\n",
    "- genres — жанры, к которым относится произведение.\n",
    "\n",
    "Таблица ratings - таблица с рейтингами от зрителей:\n",
    "- title_id — оцениваемое произведение;\n",
    "- avg_rating — средний рейтинг;\n",
    "- vote_cnt — количество голосовавших.\n",
    "\n",
    "Таблица episodes - таблица с эпиздами сериала:\n",
    "- title_id — ссылка на t itle_id этого эпизода;\n",
    "- parent_id — ссылка на title_id всего сериала;\n",
    "- season — номер сезона;\n",
    "- episode — номер эпизода.\n",
    "\n",
    "Таблица principals — таблица с людьми, участвовавшими в создании произведений:\n",
    "- title_id — id произведения;\n",
    "- ordering — уникальный номер в рамках одного title_id ;\n",
    "- person_id — id из таблицы persons;\n",
    "- category — категория работы в рамках произведения;\n",
    "- job — конкретная работа. Человек может быть автором произведения и в рамках фильма работать над адаптацией текста;\n",
    "- characters — персонажи, которых играл человек."
   ]
  },
  {
   "cell_type": "markdown",
   "metadata": {},
   "source": [
    "Написать SQL-запрос, который выведет количество живых и умерших людей из таблицы persons. \n",
    "Если поле year_of_death пустое, вывести alive, иначе — dead."
   ]
  },
  {
   "cell_type": "code",
   "execution_count": null,
   "metadata": {},
   "outputs": [],
   "source": [
    "SELECT (case when year_of_death is null then 'alive'\n",
    "             else 'dead' end) as status, -- Используем конструкцию case для определения \"живых\" и \"умерших\"\n",
    "       count(1) as cnt -- Считаем их количество\n",
    "  FROM persons\n",
    " GROUP BY status -- Группируем по статусу\n",
    " ORDER BY status, cnt -- Сортируем по статусу и количеству"
   ]
  },
  {
   "cell_type": "markdown",
   "metadata": {},
   "source": [
    "Написать SQL-запрос, который выведет средний рейтинг каждого из жанров."
   ]
  },
  {
   "cell_type": "code",
   "execution_count": null,
   "metadata": {},
   "outputs": [],
   "source": [
    "SELECT genres, avg(r.avg_rating) AS avg_rating\n",
    "  FROM titles AS t\n",
    "  LEFT JOIN ratings AS r -- Объединяем таблицы по id фильмов\n",
    "    ON t.id = r.title_id\n",
    " WHERE genres NOT LIKE '%,%' -- Фильтруем строки, где фильмы с одним жанром\n",
    " GROUP BY genres -- группируем по жанрам\n",
    " ORDER BY avg_rating DESC -- Сортируем по убыванию среднего рейтинга"
   ]
  },
  {
   "cell_type": "markdown",
   "metadata": {},
   "source": [
    "Написать SQL-запрос, который выведет жанр и сумму голосов (vote_cnt из таблицы ratings) для каждого жанра."
   ]
  },
  {
   "cell_type": "code",
   "execution_count": null,
   "metadata": {},
   "outputs": [],
   "source": [
    "SELECT genres,\n",
    "       sum(r.vote_cnt) as sum_vote\n",
    "  FROM titles as t\n",
    "    LEFT JOIN ratings as r -- Объединяем таблицы по id фильмов\n",
    "        ON t.id = r.title_id\n",
    " WHERE genres not like '%,%' -- Фильтруем строки, где фильмы с одним жанром\n",
    " GROUP BY genres -- группируем по жанрам\n",
    " ORDER BY sum_vote desc -- Сортируем по убыванию среднего рейтинга"
   ]
  },
  {
   "cell_type": "markdown",
   "metadata": {},
   "source": [
    "Написать SQL-запрос, который выведет имена людей (поле name из таблицы persons), которые судя по таблице principals участвовали в создании 10 самых высокооценённых произведений (топ 10 по рейтингу (avg_rating) и количеству набранных голосов из таблицы ratings)."
   ]
  },
  {
   "cell_type": "code",
   "execution_count": null,
   "metadata": {},
   "outputs": [],
   "source": [
    "WITH the_best_id AS (\n",
    "    SELECT title_id\n",
    "      FROM ratings\n",
    "     ORDER BY avg_rating DESC, vote_cnt DESC\n",
    "     LIMIT 10\n",
    "), -- создадим временную таблицу с топ-10 фильмами по среденму рейтингу\n",
    "prin AS (\n",
    "    SELECT person_id\n",
    "      FROM principals\n",
    "     WHERE title_id IN (SELECT title_id FROM the_best_id)\n",
    ") -- найдем id всех создателей фильмов, которые участвавали в создании топ-10 лучших фильмов\n",
    "\n",
    "SELECT name\n",
    "  FROM persons\n",
    " WHERE id IN (SELECT person_id FROM prin)\n",
    " ORDER BY name; -- выведем имена этих создателей"
   ]
  },
  {
   "cell_type": "markdown",
   "metadata": {},
   "source": [
    "Написать SQL-запрос, который выведет названия (name) сериалов, у которых первый эпизод первого сезона получил рейтинг 10."
   ]
  },
  {
   "cell_type": "code",
   "execution_count": null,
   "metadata": {},
   "outputs": [],
   "source": [
    "WITH cte AS (\n",
    "        SELECT (SELECT t.original_title\n",
    "                  FROM titles AS t\n",
    "                 WHERE t.id = e.parent_id) AS name,\n",
    "               (SELECT r.avg_rating\n",
    "                  FROM ratings AS r\n",
    "                 WHERE r.title_id = e.title_id) AS avg_rating\n",
    "          FROM episodes AS e\n",
    "         WHERE e.episode = 1 AND e.season = 1) -- создадим cte, в котором объединим 3 таблицы и найдем названия лучших фильмов\n",
    "\n",
    "SELECT name\n",
    "  FROM cte\n",
    " WHERE avg_rating = 10\n",
    "   AND name IS NOT NULL\n",
    " ORDER BY name; -- выводим названия лучших сериалов первого сезона"
   ]
  },
  {
   "cell_type": "markdown",
   "metadata": {},
   "source": [
    "Вывести оригинальное название (original_title), год начала (year_of_start) и количество эпизодов произведений (ep_cnt), у которых больше 500 серий, отсортировав их по убыванию количества серий."
   ]
  },
  {
   "cell_type": "code",
   "execution_count": null,
   "metadata": {},
   "outputs": [],
   "source": [
    "WITH ep_char as (SELECT parent_id,\n",
    "                        count(1) as ep_cnt\n",
    "                 FROM   episodes as ep\n",
    "                 GROUP BY parent_id \n",
    "                 HAVING count(1) > 500\n",
    "                 ORDER BY ep_cnt desc) -- создадим cte для отображения фильмов, у которых более 500 серий\n",
    "SELECT original_title,\n",
    "       year_of_start,\n",
    "       ep_char.ep_cnt\n",
    "  FROM titles join ep_char\n",
    "       ON ep_char.parent_id = titles.id\n",
    " ORDER BY ep_cnt desc -- выводим название, год начала и количество эпизодов"
   ]
  },
  {
   "cell_type": "markdown",
   "metadata": {},
   "source": [
    "Написать SQL-запрос с использованием CTE, который выведет:\n",
    "\n",
    "— имя (name);\n",
    "\n",
    "— сезон (season).\n",
    "\n",
    "и далее для каждого персонажа и сезона с сортировкой по возрастанию количества эпизодов в сезоне, где он встречается:\n",
    "\n",
    "— количество эпизодов в сезоне (ep_cnt);\n",
    "\n",
    "— номер строки в текущей партиции (rn);\n",
    "\n",
    "— ранг строки с пропусками (rank);\n",
    "\n",
    "— ранг строки без пропусков (dense_rank);\n",
    "\n",
    "— номер группы при делении окна на две группы NTILE (group_num);\n",
    "\n",
    "— кумулятивное распределение CUME_DIST (cume_dist);\n",
    "\n",
    "— ранг в процентах PERCENT_RANK (percent_rank).\n",
    "\n",
    "Воспользуемся WINDOW FRAME для упрощения кода"
   ]
  },
  {
   "cell_type": "code",
   "execution_count": null,
   "metadata": {},
   "outputs": [],
   "source": [
    "WITH cte as (SELECT ch.name,\n",
    "                    substr(ep.episode_id, 1, 3) as season,\n",
    "                    count(distinct ep.episode_id) as ep_cnt\n",
    "             FROM   characters as ch\n",
    "                 LEFT JOIN char_ep ce\n",
    "                     ON ch.id = ce.character_id\n",
    "                 LEFT JOIN episodes as ep\n",
    "                     ON ce.episode_id = ep.id\n",
    "             GROUP BY ch.name, substr(ep.episode_id, 1, 3) having count(ep.episode_id) > 5)\n",
    "SELECT name,\n",
    "       season,\n",
    "       ep_cnt,\n",
    "       row_number() OVER w as rn,\n",
    "       rank() OVER w as rank,\n",
    "       dense_rank() OVER w as dense_rank,\n",
    "       ntile(2) OVER w as group_num,\n",
    "       cume_dist() OVER w as cume_dist,\n",
    "       percent_rank() OVER w as percent_rank\n",
    "FROM   cte window w as (\n",
    "PARTITION BY name\n",
    "ORDER BY ep_cnt)"
   ]
  },
  {
   "cell_type": "markdown",
   "metadata": {},
   "source": [
    "### Задание 2"
   ]
  },
  {
   "cell_type": "markdown",
   "metadata": {},
   "source": [
    "#### В данном задании необходимо решить три задачи, представляющие собой варианты тестовых заданий на собеседовании"
   ]
  },
  {
   "cell_type": "markdown",
   "metadata": {},
   "source": [
    "Таблица employees - информация о сотрудниках:\n",
    "\n",
    "- employee_id - уникальный идентификатор сотрудника;\n",
    "- name - имя сотрудника;\n",
    "- manager_id - уникальный идентификатор руководителя сотрудника;\n",
    "\n",
    "Таблица projects - информация о проектах:\n",
    "\n",
    "- project_id - уникальный идентификатор проекта; \n",
    "- employee_id - уникальный идентификатор сотрудника, который работает над проектом;\n",
    "- project_name - название проекта;\n",
    "- hours_worked - количество часов, которое данный сотрудник работает над данным проектом."
   ]
  },
  {
   "cell_type": "markdown",
   "metadata": {},
   "source": [
    "Вывести id сотрудника, имя сотрудника и имя его руководителя для **каждого** сотрудника"
   ]
  },
  {
   "cell_type": "code",
   "execution_count": null,
   "metadata": {},
   "outputs": [],
   "source": [
    "SELECT e.employee_id,\n",
    "       e.name,\n",
    "       em.name as manager_name\n",
    "  FROM employees as e\n",
    "  LEFT JOIN employees as em\n",
    "       ON em.employee_id = e.manager_id\n",
    " ORDER BY employee_id"
   ]
  },
  {
   "cell_type": "markdown",
   "metadata": {},
   "source": [
    "Вывести общую информацию о проектах: список всех проектов, общее количество часов потраченных на проекты и колчество сотрудников, которые работают над проектом"
   ]
  },
  {
   "cell_type": "code",
   "execution_count": null,
   "metadata": {},
   "outputs": [],
   "source": [
    "SELECT project_name,\n",
    "       sum (hours_worked) as total_hour,\n",
    "       count(distinct employee_id) as emp_count\n",
    "  FROM projects\n",
    " GROUP BY project_name\n",
    " ORDER BY project_name"
   ]
  },
  {
   "cell_type": "markdown",
   "metadata": {},
   "source": [
    "Вывести топ-3 сотрудников, которые провели больше всего часов, работая над проектами"
   ]
  },
  {
   "cell_type": "code",
   "execution_count": null,
   "metadata": {},
   "outputs": [],
   "source": [
    "SELECT e.name,\n",
    "       sum(p.hours_worked) as total_hour\n",
    "  FROM projects as p join employees as e\n",
    "        ON e.employee_id = p.employee_id\n",
    " GROUP BY e.name\n",
    " ORDER BY 2 DESC \n",
    " LIMIT 3"
   ]
  },
  {
   "cell_type": "markdown",
   "metadata": {},
   "source": [
    "### Задание 3"
   ]
  },
  {
   "cell_type": "markdown",
   "metadata": {},
   "source": [
    "Таблица peas - информация о решенных задачах:\n",
    "\n",
    "- st_id - уникальный идентификатор ученика;\n",
    "- timest - время решения задания;\n",
    "- correct - правильно ли решена задача;\n",
    "- subject - дисциплина, в которой находится задача.\n",
    "\n",
    "Таблица studs - информация о студентах:\n",
    "\n",
    "- st_id - уникальный идентификатор ученика;\n",
    "- test_grp - к какой группе принадлежит студент.\n",
    "\n",
    "Таблица final_project_check - информация о покупках студентов:\n",
    "\n",
    "- st_id - уникальный идентификатор ученика;\n",
    "- sale_time - время покупки;\n",
    "- money - цена покупки;\n",
    "- subject - дисциплина."
   ]
  },
  {
   "cell_type": "markdown",
   "metadata": {},
   "source": [
    "#### Очень усердные ученики.\n",
    "\n",
    "#### Условие\n",
    "\n",
    "Образовательные курсы состоят из различных уроков, каждый из которых состоит из нескольких маленьких заданий. Каждое такое маленькое задание называется \"горошиной\".\n",
    "\n",
    "Назовём очень усердным учеником того пользователя, который хотя бы раз за текущий месяц правильно решил 20 горошин.\n",
    "\n",
    "Необходимо написать оптимальный запрос, который даст информацию о количестве очень усердных студентов.NB! Под усердным студентом мы понимаем студента, который правильно решил 20 задач за текущий месяц."
   ]
  },
  {
   "cell_type": "markdown",
   "metadata": {},
   "source": [
    "#### Решение"
   ]
  },
  {
   "cell_type": "code",
   "execution_count": null,
   "metadata": {},
   "outputs": [],
   "source": [
    "SELECT COUNT(1) AS diligent_students\n",
    "  FROM (SELECT st_id\n",
    "          FROM peas\n",
    "         WHERE correct = true\n",
    "         GROUP BY st_id\n",
    "        HAVING COUNT(1) >= 20) AS DS"
   ]
  },
  {
   "cell_type": "markdown",
   "metadata": {},
   "source": [
    "#### Оптимизация воронки\n",
    "\n",
    "#### Условие\n",
    "\n",
    "Образовательная платформа предлагает пройти студентам курсы по модели trial: студент может решить бесплатно лишь 30 горошин в день. Для неограниченного количества заданий в определенной дисциплине студенту необходимо приобрести полный доступ. Команда провела эксперимент, где был протестирован новый экран оплаты.\n",
    "\n",
    "Необходимо в одном запросе выгрузить следующую информацию о группах пользователей:\n",
    "\n",
    "- ARPU \n",
    "- ARPAU \n",
    "- CR в покупку \n",
    "- СR активного пользователя в покупку \n",
    "- CR пользователя из активности по математике (subject = ’math’) в покупку курса по математике\n",
    "ARPU считается относительно всех пользователей, попавших в группы.\n",
    "\n",
    "Активным считается пользователь, за все время решивший больше 10 задач правильно в любых дисциплинах.\n",
    "\n",
    "Активным по математике считается пользователь, за все время решивший 2 или больше задач правильно по математике."
   ]
  },
  {
   "cell_type": "markdown",
   "metadata": {},
   "source": [
    "#### Решение"
   ]
  },
  {
   "cell_type": "code",
   "execution_count": null,
   "metadata": {},
   "outputs": [],
   "source": [
    "WITH\n",
    "  -- 1. Определяем всех пользователей в эксперименте с их группами\n",
    "  experiment_users AS (\n",
    "    SELECT DISTINCT st_id, test_grp\n",
    "      FROM studs\n",
    "  ),\n",
    "\n",
    "  -- 2. Определяем пользователей, которые являются активными (> 10 правильно решенных горошин)\n",
    "  active_users AS (\n",
    "    SELECT st_id\n",
    "      FROM peas\n",
    "     WHERE correct = TRUE\n",
    "     GROUP BY st_id\n",
    "    HAVING COUNT(*) > 10\n",
    "  ),\n",
    "\n",
    "  -- 3. Определяем пользователей, которые являются активными по математике (>= 2 правильно решенных задач по математике)\n",
    "  math_active_users AS (\n",
    "    SELECT st_id\n",
    "      FROM peas\n",
    "     WHERE correct = TRUE AND subject = 'Math'\n",
    "     GROUP BY st_id\n",
    "    HAVING COUNT(*) >= 2\n",
    "  ),\n",
    "\n",
    "  -- 4. Берем все поля из таблицы со студентами и их покупками и переименовываем ее\n",
    "  purchases AS (\n",
    "    SELECT st_id, subject, sale_time, money\n",
    "      FROM final_project_check\n",
    "  ),\n",
    "\n",
    "  -- 5. Считаем общую выручку по группам\n",
    "  total_revenue AS (\n",
    "    SELECT u.test_grp, SUM(money) AS total_revenue\n",
    "      FROM experiment_users u\n",
    "      LEFT JOIN purchases p ON u.st_id = p.st_id\n",
    "     GROUP BY u.test_grp\n",
    "  ),\n",
    "\n",
    "  -- 6. Считаем количество покупок\n",
    "  purchase_counts AS (\n",
    "      SELECT test_grp, COUNT(DISTINCT st_id) as num_purchases\n",
    "        FROM (SELECT DISTINCT u.test_grp, p.st_id\n",
    "                FROM experiment_users u\n",
    "                JOIN purchases p ON u.st_id = p.st_id) as sub\n",
    "       GROUP BY test_grp\n",
    "  ),\n",
    "\n",
    "  -- 7. Считаем количество покупок по математике\n",
    "  math_purchase_counts AS (\n",
    "      SELECT test_grp, COUNT(DISTINCT st_id) as num_math_purchases\n",
    "        FROM (SELECT DISTINCT u.test_grp, p.st_id\n",
    "                FROM experiment_users u\n",
    "                JOIN purchases p ON u.st_id = p.st_id AND p.subject = 'Math'\n",
    "                JOIN math_active_users mau ON mau.st_id = u.st_id ) as sub\n",
    "       GROUP BY test_grp\n",
    "  ),\n",
    "\n",
    "  -- 8. Считаем количество активных пользователей по группам\n",
    "  active_user_counts AS (\n",
    "    SELECT u.test_grp, COUNT(DISTINCT a.st_id) AS num_active_users\n",
    "      FROM experiment_users u\n",
    "      LEFT JOIN active_users a ON u.st_id = a.st_id\n",
    "     GROUP BY u.test_grp\n",
    "  ),\n",
    "\n",
    "  -- 9. Считаем общее количество пользователей по группам\n",
    "  total_user_counts AS (\n",
    "    SELECT test_grp, COUNT(DISTINCT st_id) AS total_users\n",
    "      FROM experiment_users\n",
    "     GROUP BY test_grp\n",
    "  ),\n",
    "\n",
    "  -- 10. Считаем количество активных пользователей по математике по группам\n",
    "  math_active_user_counts AS (\n",
    "    SELECT u.test_grp, COUNT(DISTINCT mau.st_id) AS num_math_active_users\n",
    "      FROM experiment_users u\n",
    "      LEFT JOIN math_active_users mau ON u.st_id = mau.st_id\n",
    "     GROUP BY u.test_grp\n",
    "  )\n",
    "\n",
    "-- 11. Собираем все вместе\n",
    "SELECT\n",
    "  t.test_grp,\n",
    "  tr.total_revenue::numeric / t.total_users AS \"ARPU\",\n",
    "  tr.total_revenue::numeric / COALESCE(auc.num_active_users, 1) AS \"ARPAU\",  -- Используем COALESCE для избежания ошибки деления на 0\n",
    "  ROUND(pc.num_purchases::numeric / t.total_users * 100, 2) AS \"CR_to_purchase\",\n",
    "  ROUND(pc.num_purchases::numeric / COALESCE(auc.num_active_users, 1) * 100, 2) AS \"CR_active_to_purchase\", \n",
    "  ROUND(COALESCE(mpc.num_math_purchases::numeric / mauc.num_math_active_users, 0) * 100, 2) AS \"CR_math_active_to_math_purchase\"\n",
    "  FROM total_user_counts t\n",
    "  JOIN total_revenue tr ON t.test_grp = tr.test_grp\n",
    "  LEFT JOIN active_user_counts auc ON t.test_grp = auc.test_grp\n",
    "  LEFT JOIN math_active_user_counts mauc ON t.test_grp = mauc.test_grp\n",
    "  LEFT JOIN purchase_counts pc ON t.test_grp = pc.test_grp\n",
    "  LEFT JOIN math_purchase_counts mpc ON t.test_grp = mpc.test_grp\n",
    " ORDER BY t.test_grp"
   ]
  }
 ],
 "metadata": {
  "kernelspec": {
   "display_name": "Python 3",
   "language": "python",
   "name": "python3"
  },
  "language_info": {
   "codemirror_mode": {
    "name": "ipython",
    "version": 3
   },
   "file_extension": ".py",
   "mimetype": "text/x-python",
   "name": "python",
   "nbconvert_exporter": "python",
   "pygments_lexer": "ipython3",
   "version": "3.7.3"
  }
 },
 "nbformat": 4,
 "nbformat_minor": 4
}
